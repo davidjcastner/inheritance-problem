{
 "cells": [
  {
   "cell_type": "markdown",
   "id": "2aed2459-9dcf-4a2f-a51a-a605b62efb37",
   "metadata": {
    "tags": []
   },
   "source": [
    "# Inheritance problem\n",
    "\n",
    "Solution by David Castner\n",
    "\n",
    "**Original problem:**\n",
    "\n",
    "A farmer passed away. In the farmer's will, they passed their 17 horses to 3 heirs. The first heir was assigned 1/2 of the horses, the second heir was assigned 1/3 of the horses, and the third heir was assigned 1/9 of the horses. When the heirs struggled to evenly divide the horses, the farmer's neighbor offered to add one of their own horses to the team of 17 (for a total of 18). Then the first heir took 9 horses (1/2 of 18), the second heir took 6 horses (1/3 of 18), and the third heir took 2 horses (1/9 of 18). Finally, the neighbor took the remaining horse, and everyone lived happily ever after.\n",
    "\n",
    "What numbers can be applied to this story?"
   ]
  },
  {
   "cell_type": "markdown",
   "id": "37ff2831-3b3a-4367-af9a-1af2b531082b",
   "metadata": {
    "tags": []
   },
   "source": [
    "## Rephrased Problem\n",
    "\n",
    "A farmer has \\$ c \\$ number of horses where \\$ c \\in \\mathbb{N} \\$. The farmer has \\$ h \\$ number or heirs where \\$ h \\in \\mathbb{N} \\$. The neighbor lends \\$ m \\$ number of horses where \\$ m \\in\\mathbb{N} \\$.\n",
    "\n",
    "> In the orginal problem, \\$ c = 17, h = 3, m = 1 \\$.\n",
    "\n",
    "Let \\$ n \\$ be the nth heir where \\$ n \\in \\mathbb{N} \\$. Each heir is assigned a share of the horse where the share amount forms a reciprocal of the natural numbers. Let \\$ \\frac{1}{d_n} \\$ be the nth heir's share of the horses where \\$ d_n \\in \\mathbb{N} \\$.\n",
    "\n",
    "> In the original problem, \\$ n = \\\\{ 1, 2, 3 \\\\}, \\frac{1}{d_1} = \\frac{1}{2}, \\frac{1}{d_2} = \\frac{1}{3}, \\frac{1}{d_3} = \\frac{1}{9} \\$.\n",
    "\n",
    "**Additional Constraint:** Let's assume that \\$ d\\_{n-1} \\leq d_n\\$ to produce an ordered set of shares and avoid duplicate solutions.\n",
    "\n",
    "Let's call \\$ k \\$ (representative of the total horses) an **inheritance number** of \\$ (h, m) \\$ when \\$ k = c + m \\$ and there exists a combination of shares that allow the heirs to divide the horse. That condition can be expressed in the form of\n",
    "\\$\\$ 1 = \\frac{1}{d_1} + \\frac{1}{d_2} + ... + \\frac{1}{d_n} + \\frac{m}{k} \\$\\$\n",
    "\n",
    "> In the orginal problem \\$ c = 17, h = 3, m = 1 \\rightarrow k = 17 + 1 = 18 \\$. And the condition would be \\$ 1 = \\frac{1}{2} + \\frac{1}{3} + \\frac{1}{9} + \\frac{1}{18} \\$.\n",
    "\n",
    "Let \\$ S(h, m) \\$ be the set of inheritance numbers.\n",
    "\n",
    "Therefore in the question proposed, we are trying to answer the following:\n",
    "\n",
    "- What is \\$ S(h, m) \\$, and in particular what is \\$ S(h, 1) \\$?\n",
    "- What are the heirs' shares for each \\$ k \\$ in \\$ S(h, m) \\$?"
   ]
  },
  {
   "cell_type": "markdown",
   "id": "943bb9f1-e7cf-4014-8702-7195ba531672",
   "metadata": {},
   "source": [
    "## Dependancy code\n",
    "\n",
    "This section of code is not used for solving the problem, but imports necessary libraries and provides utility functions for pretty output."
   ]
  },
  {
   "cell_type": "code",
   "execution_count": 1,
   "id": "918e5c83-ad54-44f9-a31c-7bdf4cf6632f",
   "metadata": {
    "tags": []
   },
   "outputs": [],
   "source": [
    "'''imports and utility functions for pretty output'''\n",
    "\n",
    "from IPython.display import display, Markdown\n",
    "from typing import Generator\n",
    "\n",
    "\n",
    "def tablify(headers: list[str], data: list[list[str]]) -> None:\n",
    "    '''displays a table in markdown/latex in jupyter notebook'''\n",
    "    output = '| ' + (' | ').join(headers) + ' |\\n'\n",
    "    output += '| ' + (' | ').join('---' for _ in headers) + ' |\\n'\n",
    "    for row in data:\n",
    "        output += '| ' + (' | ').join(str(col) for col in row) + ' |\\n'\n",
    "    display(Markdown(output))\n",
    "\n",
    "\n",
    "def frac(numerator: str, denominator: str) -> str:\n",
    "    '''returns a latex fraction in string form'''\n",
    "    return ' \\\\frac{' + str(numerator) + '}{' + str(denominator) + '} '\n",
    "\n",
    "\n",
    "def latexify(string: str) -> str:\n",
    "    '''wraps the stringable in latex format'''\n",
    "    return f'$$ {str(string)} $$'\n",
    "\n",
    "\n",
    "def prettify_solutions(solutions: list[tuple[int, int, int, list[int]]]) -> None:\n",
    "    '''\n",
    "    displays a list of solutions in the form of\n",
    "    list[(heirs, horses, neighbor, denominators)]\n",
    "    '''\n",
    "    headers = [\n",
    "        'Heirs $ h $',\n",
    "        'Horses $ c $',\n",
    "        'Neighbor $ m $',\n",
    "        '$ k $',\n",
    "        'Shares',\n",
    "        'Sum of Shares',\n",
    "        'Horse Amounts'\n",
    "    ]\n",
    "    data = []\n",
    "    for record in solutions:\n",
    "        heirs, horses, neighbor, denominators = record\n",
    "        k = horses + neighbor\n",
    "        shares = (' + ').join(frac(1, d) for d in denominators)\n",
    "        sum_of_shares = frac(horses, k)\n",
    "        horse_amounts = (' + ').join(str(k // d) for d in denominators)\n",
    "        data_row = [heirs, horses, neighbor, k, shares, sum_of_shares, horse_amounts ]\n",
    "        data.append([latexify(s) for s in data_row])\n",
    "    tablify(headers, data)"
   ]
  },
  {
   "cell_type": "markdown",
   "id": "d615f344-34a9-4c5c-a80f-1b2d4a92cae4",
   "metadata": {},
   "source": [
    "## Math for solving the problem\n",
    "\n",
    "It is better to approach the problem from which value of shares, \\$ \\frac{1}{d_n} \\$, can be used for each \\$ k \\$ number.\n",
    "\n",
    "Let's start by rearranging the condition for \\$ k \\$ numbers\n",
    "\\$\\$ 1 = \\frac{1}{d_1} + \\frac{1}{d_2} + ... + \\frac{1}{d_n} + \\frac{m}{k} \\$\\$\n",
    "\\$\\$ ... \\$\\$\n",
    "\\$\\$ 1 - \\frac{m}{k} = \\frac{1}{d_1} + \\frac{1}{d_2} + ... + \\frac{1}{d_n} \\$\\$\n",
    "\\$\\$ ... \\$\\$\n",
    "\\$\\$ \\frac{k}{k} - \\frac{m}{k} = \\frac{1}{d_1} + \\frac{1}{d_2} + ... + \\frac{1}{d_n} \\$\\$\n",
    "\\$\\$ ... \\$\\$\n",
    "\\$\\$ \\frac{k - m}{k} = \\frac{1}{d_1} + \\frac{1}{d_2} + ... + \\frac{1}{d_n} \\$\\$\n",
    "\n",
    "In order to add fractions together, a common denominator needs to be used. In this case, the common denomator needs to be \\$ k \\$.\n",
    "\n",
    "So, each share could also be written as \\$ \\frac{1}{d_n} = \\frac{1 \\cdot p}{d_n \\cdot p} \\$ where \\$ p \\$ is a positive integer and \\$ d_n \\cdot p = k \\$. Therefore, \\$ p \\$ evenly divides \\$ k \\$ since \\$ d_n \\$ is also a positive integer. This also implies that all possible \\$ p \\$ values are the proper divisors of \\$ k \\$.\n",
    "\n",
    "Let's call \\$ p_n \\$ the proper divisor of \\$ k \\$ where \\$ p_n \\$ is the multiple for the nth heir's share. It is also the number of horses the heir will recieve in the end. Consequently, the condition above can be rewritten as\n",
    "\\$\\$ \\frac{k - m}{k} = \\frac{1 \\cdot p_1}{d_1 \\cdot p_1} + \\frac{1 \\cdot p_2}{d_2 \\cdot p_2} + ... + \\frac{1 \\cdot p_n}{d_n \\cdot p_n} \\$\\$\n",
    "\n",
    "By definition \\$ d_n \\cdot p_n = k \\$\n",
    "\\$\\$ \\frac{k - m}{k} = \\frac{1 \\cdot p_1}{k} + \\frac{1 \\cdot p_2}{k} + ... + \\frac{1 \\cdot p_n}{k} \\$\\$\n",
    "\n",
    "After multiplying each side by \\$ k \\$, it produces\n",
    "\\$\\$ k - m = p_1 + p_2 + ... + p_n \\$\\$\n",
    "\n",
    "Subsituting \\$ c \\$ in since \\$ k = c + m \\rightarrow k - m = c \\$\n",
    "\\$\\$ c= p_1 + p_2 + ... + p_n \\$\\$\n",
    "\n",
    "Therefore, all that is needed is to look for a combination of size \\$ h \\$ of proper divisors of \\$ k \\$ that sum to \\$ c \\$.\n",
    "\n",
    "The combination of proper divisors can also be arranged with \\$ p\\_{n-1} \\geq p_n \\$ to meet the additional constraint of ordered solutions."
   ]
  },
  {
   "cell_type": "markdown",
   "id": "dbb912c9-eb55-481a-a4f3-4ea20e0438da",
   "metadata": {},
   "source": [
    "## Code for solving the prblem"
   ]
  },
  {
   "cell_type": "code",
   "execution_count": 2,
   "id": "a112f2d7-f68b-49f3-8ddf-322f7f15aac6",
   "metadata": {
    "tags": []
   },
   "outputs": [
    {
     "data": {
      "text/markdown": [
       "| Heirs $ h $ | Horses $ c $ | Neighbor $ m $ | $ k $ | Shares | Sum of Shares | Horse Amounts |\n",
       "| --- | --- | --- | --- | --- | --- | --- |\n",
       "| $$ 3 $$ | $$ 17 $$ | $$ 1 $$ | $$ 18 $$ | $$  \\frac{1}{2}  +  \\frac{1}{3}  +  \\frac{1}{9}  $$ | $$  \\frac{17}{18}  $$ | $$ 9 + 6 + 2 $$ |\n"
      ],
      "text/plain": [
       "<IPython.core.display.Markdown object>"
      ]
     },
     "metadata": {},
     "output_type": "display_data"
    }
   ],
   "source": [
    "def proper_divisors(num: int) -> list[int]:\n",
    "    '''returns a list of proper divisors in order'''\n",
    "    # NOTE: there are better ways to get divisors in mass,\n",
    "    # but this is fast enough for small solutions\n",
    "    assert isinstance(num, int) and num > 1\n",
    "    sqrt = int(num**0.5)\n",
    "    divisors = {1}\n",
    "    for div in range(2, sqrt + 1):\n",
    "        if num % div == 0:\n",
    "            divisors.add(div)\n",
    "            divisors.add(num // div)\n",
    "    divisors = list(divisors)\n",
    "    divisors.sort()\n",
    "    return divisors\n",
    "\n",
    "\n",
    "def sum_combinations(goal: int, numbers: list[int], addends: int) -> Generator[list[int], None, None]:\n",
    "    '''\n",
    "    recursively generates combinations of the numbers that sum to the goal\n",
    "    where addends is the number of integers to use in the combination\n",
    "    assumes that the list of integers is sorted largest to smallest\n",
    "    '''\n",
    "    if addends == 1:\n",
    "        if goal in numbers:\n",
    "            yield [goal]\n",
    "    else:\n",
    "        for idx, num in enumerate(numbers):\n",
    "            if num >= goal:\n",
    "                continue\n",
    "            for combo in sum_combinations(goal - num, numbers[idx:], addends - 1):\n",
    "                yield [num] + combo\n",
    "\n",
    "\n",
    "def find_combinations(heirs: int, horses: int, neighbor: int) -> list[list[int]]:\n",
    "    '''\n",
    "    returns all combinations of shares of each heir\n",
    "    returns a list of all combinations of the denominators in each share\n",
    "    ''' \n",
    "    assert isinstance(horses, int) and horses >= 1\n",
    "    assert isinstance(heirs, int) and heirs >= 1\n",
    "    assert isinstance(neighbor, int) and neighbor >= 1\n",
    "    divisors = proper_divisors(horses + neighbor)[::-1]\n",
    "    solutions = list()\n",
    "    for combo in sum_combinations(horses, divisors, heirs):\n",
    "        solutions.append([(horses + neighbor) // div for div in combo])\n",
    "    return solutions\n",
    "\n",
    "\n",
    "def solve(heirs: int, horses: int, neighbor: int) -> list[tuple[int, int, int, list[int]]]:\n",
    "    '''\n",
    "    returns a list of solutions in the form of\n",
    "    list[(heirs, horses, neighbor, denominators)]\n",
    "    '''\n",
    "    results = []\n",
    "    for solution in find_combinations(heirs, horses, neighbor):\n",
    "        results.append((heirs, horses, neighbor, solution))\n",
    "    return results\n",
    "\n",
    "\n",
    "# for example, print the original problems solution\n",
    "prettify_solutions(solve(3, 17, 1))"
   ]
  },
  {
   "cell_type": "markdown",
   "id": "18d4cee7-fa75-4084-9c4a-cea1fc56434b",
   "metadata": {
    "tags": []
   },
   "source": [
    "## The search for all solutions\n",
    "\n",
    "**This search assumes that the neighbor only lends 1 horse or \\$ m = 1\n",
    "\\$.**\n",
    "\n",
    "After running the code for numbers less than 10,000 on 2, 3, and 4 heirs, it seemed to stop finding solutions at low values. At first, this was a preplexing result.\n",
    "\n",
    "By intuition, larger numbers have more proper divisors, so there should be more possible combinations, right? So why would it stop so low? It was clear there must be a mathematical reason for such upper bounds."
   ]
  },
  {
   "cell_type": "code",
   "execution_count": 3,
   "id": "97331b2d-3512-48c5-b90a-0178311b101a",
   "metadata": {
    "tags": []
   },
   "outputs": [
    {
     "data": {
      "text/markdown": [
       "| Heirs $ h $ | Neighbor $ m $ | Largest Inheritance Number $ k $ below 10,000 |\n",
       "| --- | --- | --- |\n",
       "| 2 | 1 | 6 |\n",
       "| 3 | 1 | 42 |\n",
       "| 4 | 1 | 1806 |\n"
      ],
      "text/plain": [
       "<IPython.core.display.Markdown object>"
      ]
     },
     "metadata": {},
     "output_type": "display_data"
    }
   ],
   "source": [
    "def find_limit(heirs: int, neighbor: int = 1, upper_bound: int = 10_000) -> int:\n",
    "    '''finds the largest value of k less than or equal to the upper bound'''\n",
    "    for k in range(upper_bound, 1, -1):\n",
    "        if len(solve(heirs, k - neighbor, neighbor)) > 0:\n",
    "            return k\n",
    "    return 0\n",
    "\n",
    "\n",
    "def format_limits(neighbor: int = 1) -> list[list[str]]:\n",
    "    '''produces limits in data table format'''\n",
    "    return [[str(h), str(neighbor), str(find_limit(h, neighbor))] for h in range(2, 5)]\n",
    "\n",
    "\n",
    "# display table of upper bounds\n",
    "tablify(['Heirs $ h $', 'Neighbor $ m $', 'Largest Inheritance Number $ k $ below 10,000'], format_limits())"
   ]
  },
  {
   "cell_type": "markdown",
   "id": "ae7d7eab-b704-43e7-a6bc-106a0fd30f09",
   "metadata": {},
   "source": [
    "## Finding the upper bound of k\n",
    "\n",
    "When maximizing \\$ k \\$, then the amount of \\$ \\frac{k-m}{k} \\$ should approach, but never equal \\$ 1 \\$. Meaning that if there are \\$ n \\$ heirs already, the \\$ n + 1 \\$ heir's share should be the largest possible natural number reciprocal less than the remainder of \\$\\$ \\frac{1}{d\\_{n+1}} \\< 1 - (\\frac{1}{d_1} + \\frac{1}{d_2} + ... + \\frac{1}{d_n}) \\$\\$\n",
    "\n",
    "Consequencely, the heir's share will have a denominator of one less than the denominator of the remainder, as this is the next largest possible natural number reciprocal.\n",
    "\n",
    "The denominator will be least common multiple of previous denominators plus one. This is the definition of being coprime though, so the least common multiple will also be the product of the previous denominators.\n",
    "\n",
    "When maxing out \\$ k \\$, then \\$ d\\_{n+1} = d_n \\cdot (d_n - 1) + 1 = d_n^2 - d_n + 1 \\$. Therefor the upper bound of \\$ k \\$ will be the next denominator minus one since it's the product of previoud denominators plus one.\n",
    "\n",
    "> An easier way to think about this is through an example. Let's say there are a bunch of very hungry people that have to share a delicious cake. In order to split the cake, each person will take a turn slicing the cake. The only rules in place are that each person can take a slice if the slice would have evenly divided the whole cake (which means each slice would form a fraction of \\$ \\frac{1}{n}, n \\in \\mathbb{N} \\$), and they cannot take the entire remainder of the cake. Every person wants to take take as much cake for themselves since they are craving the delicious airy chocolate cake with raspberry filling and buttercream frosting.\n",
    ">\n",
    "> The first person to take a piece cannot take whole cake, \\$ \\frac{1}{1} \\$, as that wouldn't leave any for the everyone else, so they decide to take the next largest amount possible \\$ \\frac{1}{2} \\$ and leave a remainder of \\$ \\frac{1}{2} \\$. They take their slice, eat it all, and fall asleep from overeating.\n",
    ">\n",
    "> The second person, albeit annoyed at person one for taking so much, focuses their attention on making a large slice for themselves. They cannot take a slice of \\$ \\frac{1}{2} \\$ since again there would be no cake remaining for those that come after. Instead, the second person can take \\$ \\frac{1}{3} \\$. This is still plenty of cake and they leave very happy.\n",
    ">\n",
    "> The third person sees that there is \\$ \\frac{1}{6} \\$ of the cake remaining. As they cannot take all of the remainder, they take the next best which is \\$ \\frac{1}{7} \\$ and leave \\$ \\frac{1}{42} \\$ of the cake. No worries, they were on a diet anyways and that is plenty\n",
    ">\n",
    "> Everyone else is upset at the first three people, and they decide to never split a cake like this again."
   ]
  },
  {
   "cell_type": "code",
   "execution_count": 4,
   "id": "262b8678-9814-476c-9d3a-a68f907eb976",
   "metadata": {
    "tags": []
   },
   "outputs": [
    {
     "data": {
      "text/markdown": [
       "| Heirs $ h $ | Neighbor $ m $ | Upper Bound of $ k $ | Upper Bound of $ d_n $ | Maximum Share for for Last Heir |\n",
       "| --- | --- | --- | --- | --- |\n",
       "| 1 | 1 | 2 | 2 | $$  \\frac{1}{2}  $$ |\n",
       "| 2 | 1 | 6 | 3 | $$  \\frac{1}{3}  $$ |\n",
       "| 3 | 1 | 42 | 7 | $$  \\frac{1}{7}  $$ |\n",
       "| 4 | 1 | 1806 | 43 | $$  \\frac{1}{43}  $$ |\n",
       "| 5 | 1 | 3263442 | 1807 | $$  \\frac{1}{1807}  $$ |\n",
       "| 6 | 1 | 10650056950806 | 3263443 | $$  \\frac{1}{3263443}  $$ |\n"
      ],
      "text/plain": [
       "<IPython.core.display.Markdown object>"
      ]
     },
     "metadata": {},
     "output_type": "display_data"
    }
   ],
   "source": [
    "def upper_bound(heirs: int) -> int:\n",
    "    '''produces the sequence of upperbounds of heirs share'''\n",
    "    if heirs == 1:\n",
    "        return 2\n",
    "    previous = upper_bound(heirs - 1)\n",
    "    return previous * (previous - 1) + 1\n",
    "\n",
    "\n",
    "def k_upper_bound(heirs: int) -> int:\n",
    "    '''returns the upper bound for k'''\n",
    "    return upper_bound(heirs + 1) - 1\n",
    "\n",
    "\n",
    "def format_upper_bounds(limit: int = 6):\n",
    "    '''produces upper bounds in data table format'''\n",
    "    return [[str(h), '1', str(k_upper_bound(h)), str(upper_bound(h)), latexify(frac(1, upper_bound(h)))] for h in range(1, limit + 1)]\n",
    "\n",
    "\n",
    "# display table of upper bounds\n",
    "tablify(['Heirs $ h $', 'Neighbor $ m $', 'Upper Bound of $ k $', 'Upper Bound of $ d_n $', 'Maximum Share for for Last Heir'], format_upper_bounds())"
   ]
  },
  {
   "cell_type": "markdown",
   "id": "42c1c1ed-28d1-465f-b624-219d18ae4434",
   "metadata": {
    "tags": []
   },
   "source": [
    "### Interesting integer sequences\n",
    "\n",
    "These upper bounds of \\$ k \\$ and \\$ d_n \\$ form very interesting sequences. For example \\$ d_n \\$ forms a sequence of coprimes numbers, and is called Sylvester's sequence.\n",
    "\n",
    "> Sylvester's sequence: a(n+1) = a(n)^2 - a(n) + 1, with a(0) = 2.\n",
    "> (Formerly M0865 N0331)\n",
    ">\n",
    "> 2, 3, 7, 43, 1807, 3263443, 10650056950807,\n",
    "> 113423713055421844361000443,\n",
    "> 12864938683278671740537145998360961546653259485195807\n",
    ">\n",
    "> <https://oeis.org/A000058> (Online Encyclopedia of Integer Sequences)\n",
    "\n",
    "And...\n",
    "\n",
    "> a(n) = a(n-1)^2 + a(n-1), a(0)=1. (Formerly M1713)\n",
    ">\n",
    "> 1, 2, 6, 42, 1806, 3263442, 10650056950806,\n",
    "> 113423713055421844361000442,\n",
    "> 12864938683278671740537145998360961546653259485195806\n",
    "> \n",
    "> <https://oeis.org/A007018> (Online Encyclopedia of Integer Sequences)"
   ]
  },
  {
   "cell_type": "markdown",
   "id": "b14bb7c7-b40d-493e-99dd-0266f6467bbf",
   "metadata": {},
   "source": [
    "## All solutions for 2, 3, and 4 heirs when the neighbor only lends 1 horse.\n",
    "\n",
    "Here are all solutions using the proven upper bound."
   ]
  },
  {
   "cell_type": "code",
   "execution_count": 5,
   "id": "559a48d7-1fa1-40d7-ac9d-f9e2f393b4aa",
   "metadata": {
    "tags": []
   },
   "outputs": [
    {
     "data": {
      "text/markdown": [
       "| Heirs $ h $ | Horses $ c $ | Neighbor $ m $ | $ k $ | Shares | Sum of Shares | Horse Amounts |\n",
       "| --- | --- | --- | --- | --- | --- | --- |\n",
       "| $$ 2 $$ | $$ 2 $$ | $$ 1 $$ | $$ 3 $$ | $$  \\frac{1}{3}  +  \\frac{1}{3}  $$ | $$  \\frac{2}{3}  $$ | $$ 1 + 1 $$ |\n",
       "| $$ 2 $$ | $$ 3 $$ | $$ 1 $$ | $$ 4 $$ | $$  \\frac{1}{2}  +  \\frac{1}{4}  $$ | $$  \\frac{3}{4}  $$ | $$ 2 + 1 $$ |\n",
       "| $$ 2 $$ | $$ 5 $$ | $$ 1 $$ | $$ 6 $$ | $$  \\frac{1}{2}  +  \\frac{1}{3}  $$ | $$  \\frac{5}{6}  $$ | $$ 3 + 2 $$ |\n"
      ],
      "text/plain": [
       "<IPython.core.display.Markdown object>"
      ]
     },
     "metadata": {},
     "output_type": "display_data"
    },
    {
     "data": {
      "text/markdown": [
       "| Heirs $ h $ | Horses $ c $ | Neighbor $ m $ | $ k $ | Shares | Sum of Shares | Horse Amounts |\n",
       "| --- | --- | --- | --- | --- | --- | --- |\n",
       "| $$ 3 $$ | $$ 3 $$ | $$ 1 $$ | $$ 4 $$ | $$  \\frac{1}{4}  +  \\frac{1}{4}  +  \\frac{1}{4}  $$ | $$  \\frac{3}{4}  $$ | $$ 1 + 1 + 1 $$ |\n",
       "| $$ 3 $$ | $$ 5 $$ | $$ 1 $$ | $$ 6 $$ | $$  \\frac{1}{2}  +  \\frac{1}{6}  +  \\frac{1}{6}  $$ | $$  \\frac{5}{6}  $$ | $$ 3 + 1 + 1 $$ |\n",
       "| $$ 3 $$ | $$ 5 $$ | $$ 1 $$ | $$ 6 $$ | $$  \\frac{1}{3}  +  \\frac{1}{3}  +  \\frac{1}{6}  $$ | $$  \\frac{5}{6}  $$ | $$ 2 + 2 + 1 $$ |\n",
       "| $$ 3 $$ | $$ 7 $$ | $$ 1 $$ | $$ 8 $$ | $$  \\frac{1}{2}  +  \\frac{1}{4}  +  \\frac{1}{8}  $$ | $$  \\frac{7}{8}  $$ | $$ 4 + 2 + 1 $$ |\n",
       "| $$ 3 $$ | $$ 9 $$ | $$ 1 $$ | $$ 10 $$ | $$  \\frac{1}{2}  +  \\frac{1}{5}  +  \\frac{1}{5}  $$ | $$  \\frac{9}{10}  $$ | $$ 5 + 2 + 2 $$ |\n",
       "| $$ 3 $$ | $$ 11 $$ | $$ 1 $$ | $$ 12 $$ | $$  \\frac{1}{2}  +  \\frac{1}{3}  +  \\frac{1}{12}  $$ | $$  \\frac{11}{12}  $$ | $$ 6 + 4 + 1 $$ |\n",
       "| $$ 3 $$ | $$ 11 $$ | $$ 1 $$ | $$ 12 $$ | $$  \\frac{1}{2}  +  \\frac{1}{4}  +  \\frac{1}{6}  $$ | $$  \\frac{11}{12}  $$ | $$ 6 + 3 + 2 $$ |\n",
       "| $$ 3 $$ | $$ 11 $$ | $$ 1 $$ | $$ 12 $$ | $$  \\frac{1}{3}  +  \\frac{1}{3}  +  \\frac{1}{4}  $$ | $$  \\frac{11}{12}  $$ | $$ 4 + 4 + 3 $$ |\n",
       "| $$ 3 $$ | $$ 17 $$ | $$ 1 $$ | $$ 18 $$ | $$  \\frac{1}{2}  +  \\frac{1}{3}  +  \\frac{1}{9}  $$ | $$  \\frac{17}{18}  $$ | $$ 9 + 6 + 2 $$ |\n",
       "| $$ 3 $$ | $$ 19 $$ | $$ 1 $$ | $$ 20 $$ | $$  \\frac{1}{2}  +  \\frac{1}{4}  +  \\frac{1}{5}  $$ | $$  \\frac{19}{20}  $$ | $$ 10 + 5 + 4 $$ |\n",
       "| $$ 3 $$ | $$ 23 $$ | $$ 1 $$ | $$ 24 $$ | $$  \\frac{1}{2}  +  \\frac{1}{3}  +  \\frac{1}{8}  $$ | $$  \\frac{23}{24}  $$ | $$ 12 + 8 + 3 $$ |\n",
       "| $$ 3 $$ | $$ 41 $$ | $$ 1 $$ | $$ 42 $$ | $$  \\frac{1}{2}  +  \\frac{1}{3}  +  \\frac{1}{7}  $$ | $$  \\frac{41}{42}  $$ | $$ 21 + 14 + 6 $$ |\n"
      ],
      "text/plain": [
       "<IPython.core.display.Markdown object>"
      ]
     },
     "metadata": {},
     "output_type": "display_data"
    },
    {
     "data": {
      "text/markdown": [
       "| Heirs $ h $ | Horses $ c $ | Neighbor $ m $ | $ k $ | Shares | Sum of Shares | Horse Amounts |\n",
       "| --- | --- | --- | --- | --- | --- | --- |\n",
       "| $$ 4 $$ | $$ 4 $$ | $$ 1 $$ | $$ 5 $$ | $$  \\frac{1}{5}  +  \\frac{1}{5}  +  \\frac{1}{5}  +  \\frac{1}{5}  $$ | $$  \\frac{4}{5}  $$ | $$ 1 + 1 + 1 + 1 $$ |\n",
       "| $$ 4 $$ | $$ 5 $$ | $$ 1 $$ | $$ 6 $$ | $$  \\frac{1}{3}  +  \\frac{1}{6}  +  \\frac{1}{6}  +  \\frac{1}{6}  $$ | $$  \\frac{5}{6}  $$ | $$ 2 + 1 + 1 + 1 $$ |\n",
       "| $$ 4 $$ | $$ 7 $$ | $$ 1 $$ | $$ 8 $$ | $$  \\frac{1}{2}  +  \\frac{1}{8}  +  \\frac{1}{8}  +  \\frac{1}{8}  $$ | $$  \\frac{7}{8}  $$ | $$ 4 + 1 + 1 + 1 $$ |\n",
       "| $$ 4 $$ | $$ 7 $$ | $$ 1 $$ | $$ 8 $$ | $$  \\frac{1}{4}  +  \\frac{1}{4}  +  \\frac{1}{4}  +  \\frac{1}{8}  $$ | $$  \\frac{7}{8}  $$ | $$ 2 + 2 + 2 + 1 $$ |\n",
       "| $$ 4 $$ | $$ 8 $$ | $$ 1 $$ | $$ 9 $$ | $$  \\frac{1}{3}  +  \\frac{1}{3}  +  \\frac{1}{9}  +  \\frac{1}{9}  $$ | $$  \\frac{8}{9}  $$ | $$ 3 + 3 + 1 + 1 $$ |\n",
       "| $$ 4 $$ | $$ 9 $$ | $$ 1 $$ | $$ 10 $$ | $$  \\frac{1}{2}  +  \\frac{1}{5}  +  \\frac{1}{10}  +  \\frac{1}{10}  $$ | $$  \\frac{9}{10}  $$ | $$ 5 + 2 + 1 + 1 $$ |\n",
       "| $$ 4 $$ | $$ 11 $$ | $$ 1 $$ | $$ 12 $$ | $$  \\frac{1}{2}  +  \\frac{1}{4}  +  \\frac{1}{12}  +  \\frac{1}{12}  $$ | $$  \\frac{11}{12}  $$ | $$ 6 + 3 + 1 + 1 $$ |\n",
       "| $$ 4 $$ | $$ 11 $$ | $$ 1 $$ | $$ 12 $$ | $$  \\frac{1}{2}  +  \\frac{1}{6}  +  \\frac{1}{6}  +  \\frac{1}{12}  $$ | $$  \\frac{11}{12}  $$ | $$ 6 + 2 + 2 + 1 $$ |\n",
       "| $$ 4 $$ | $$ 11 $$ | $$ 1 $$ | $$ 12 $$ | $$  \\frac{1}{3}  +  \\frac{1}{3}  +  \\frac{1}{6}  +  \\frac{1}{12}  $$ | $$  \\frac{11}{12}  $$ | $$ 4 + 4 + 2 + 1 $$ |\n",
       "| $$ 4 $$ | $$ 11 $$ | $$ 1 $$ | $$ 12 $$ | $$  \\frac{1}{3}  +  \\frac{1}{4}  +  \\frac{1}{4}  +  \\frac{1}{12}  $$ | $$  \\frac{11}{12}  $$ | $$ 4 + 3 + 3 + 1 $$ |\n",
       "| $$ 4 $$ | $$ 11 $$ | $$ 1 $$ | $$ 12 $$ | $$  \\frac{1}{3}  +  \\frac{1}{4}  +  \\frac{1}{6}  +  \\frac{1}{6}  $$ | $$  \\frac{11}{12}  $$ | $$ 4 + 3 + 2 + 2 $$ |\n",
       "| $$ 4 $$ | $$ 11 $$ | $$ 1 $$ | $$ 12 $$ | $$  \\frac{1}{4}  +  \\frac{1}{4}  +  \\frac{1}{4}  +  \\frac{1}{6}  $$ | $$  \\frac{11}{12}  $$ | $$ 3 + 3 + 3 + 2 $$ |\n",
       "| $$ 4 $$ | $$ 13 $$ | $$ 1 $$ | $$ 14 $$ | $$  \\frac{1}{2}  +  \\frac{1}{7}  +  \\frac{1}{7}  +  \\frac{1}{7}  $$ | $$  \\frac{13}{14}  $$ | $$ 7 + 2 + 2 + 2 $$ |\n",
       "| $$ 4 $$ | $$ 14 $$ | $$ 1 $$ | $$ 15 $$ | $$  \\frac{1}{3}  +  \\frac{1}{3}  +  \\frac{1}{5}  +  \\frac{1}{15}  $$ | $$  \\frac{14}{15}  $$ | $$ 5 + 5 + 3 + 1 $$ |\n",
       "| $$ 4 $$ | $$ 14 $$ | $$ 1 $$ | $$ 15 $$ | $$  \\frac{1}{3}  +  \\frac{1}{5}  +  \\frac{1}{5}  +  \\frac{1}{5}  $$ | $$  \\frac{14}{15}  $$ | $$ 5 + 3 + 3 + 3 $$ |\n",
       "| $$ 4 $$ | $$ 15 $$ | $$ 1 $$ | $$ 16 $$ | $$  \\frac{1}{2}  +  \\frac{1}{4}  +  \\frac{1}{8}  +  \\frac{1}{16}  $$ | $$  \\frac{15}{16}  $$ | $$ 8 + 4 + 2 + 1 $$ |\n",
       "| $$ 4 $$ | $$ 17 $$ | $$ 1 $$ | $$ 18 $$ | $$  \\frac{1}{2}  +  \\frac{1}{3}  +  \\frac{1}{18}  +  \\frac{1}{18}  $$ | $$  \\frac{17}{18}  $$ | $$ 9 + 6 + 1 + 1 $$ |\n",
       "| $$ 4 $$ | $$ 17 $$ | $$ 1 $$ | $$ 18 $$ | $$  \\frac{1}{2}  +  \\frac{1}{6}  +  \\frac{1}{6}  +  \\frac{1}{9}  $$ | $$  \\frac{17}{18}  $$ | $$ 9 + 3 + 3 + 2 $$ |\n",
       "| $$ 4 $$ | $$ 17 $$ | $$ 1 $$ | $$ 18 $$ | $$  \\frac{1}{3}  +  \\frac{1}{3}  +  \\frac{1}{6}  +  \\frac{1}{9}  $$ | $$  \\frac{17}{18}  $$ | $$ 6 + 6 + 3 + 2 $$ |\n",
       "| $$ 4 $$ | $$ 19 $$ | $$ 1 $$ | $$ 20 $$ | $$  \\frac{1}{2}  +  \\frac{1}{4}  +  \\frac{1}{10}  +  \\frac{1}{10}  $$ | $$  \\frac{19}{20}  $$ | $$ 10 + 5 + 2 + 2 $$ |\n",
       "| $$ 4 $$ | $$ 19 $$ | $$ 1 $$ | $$ 20 $$ | $$  \\frac{1}{2}  +  \\frac{1}{5}  +  \\frac{1}{5}  +  \\frac{1}{20}  $$ | $$  \\frac{19}{20}  $$ | $$ 10 + 4 + 4 + 1 $$ |\n",
       "| $$ 4 $$ | $$ 19 $$ | $$ 1 $$ | $$ 20 $$ | $$  \\frac{1}{4}  +  \\frac{1}{4}  +  \\frac{1}{4}  +  \\frac{1}{5}  $$ | $$  \\frac{19}{20}  $$ | $$ 5 + 5 + 5 + 4 $$ |\n",
       "| $$ 4 $$ | $$ 20 $$ | $$ 1 $$ | $$ 21 $$ | $$  \\frac{1}{3}  +  \\frac{1}{3}  +  \\frac{1}{7}  +  \\frac{1}{7}  $$ | $$  \\frac{20}{21}  $$ | $$ 7 + 7 + 3 + 3 $$ |\n",
       "| $$ 4 $$ | $$ 23 $$ | $$ 1 $$ | $$ 24 $$ | $$  \\frac{1}{2}  +  \\frac{1}{3}  +  \\frac{1}{12}  +  \\frac{1}{24}  $$ | $$  \\frac{23}{24}  $$ | $$ 12 + 8 + 2 + 1 $$ |\n",
       "| $$ 4 $$ | $$ 23 $$ | $$ 1 $$ | $$ 24 $$ | $$  \\frac{1}{2}  +  \\frac{1}{4}  +  \\frac{1}{6}  +  \\frac{1}{24}  $$ | $$  \\frac{23}{24}  $$ | $$ 12 + 6 + 4 + 1 $$ |\n",
       "| $$ 4 $$ | $$ 23 $$ | $$ 1 $$ | $$ 24 $$ | $$  \\frac{1}{2}  +  \\frac{1}{4}  +  \\frac{1}{8}  +  \\frac{1}{12}  $$ | $$  \\frac{23}{24}  $$ | $$ 12 + 6 + 3 + 2 $$ |\n",
       "| $$ 4 $$ | $$ 23 $$ | $$ 1 $$ | $$ 24 $$ | $$  \\frac{1}{2}  +  \\frac{1}{6}  +  \\frac{1}{6}  +  \\frac{1}{8}  $$ | $$  \\frac{23}{24}  $$ | $$ 12 + 4 + 4 + 3 $$ |\n",
       "| $$ 4 $$ | $$ 23 $$ | $$ 1 $$ | $$ 24 $$ | $$  \\frac{1}{3}  +  \\frac{1}{3}  +  \\frac{1}{4}  +  \\frac{1}{24}  $$ | $$  \\frac{23}{24}  $$ | $$ 8 + 8 + 6 + 1 $$ |\n",
       "| $$ 4 $$ | $$ 23 $$ | $$ 1 $$ | $$ 24 $$ | $$  \\frac{1}{3}  +  \\frac{1}{3}  +  \\frac{1}{6}  +  \\frac{1}{8}  $$ | $$  \\frac{23}{24}  $$ | $$ 8 + 8 + 4 + 3 $$ |\n",
       "| $$ 4 $$ | $$ 23 $$ | $$ 1 $$ | $$ 24 $$ | $$  \\frac{1}{3}  +  \\frac{1}{4}  +  \\frac{1}{4}  +  \\frac{1}{8}  $$ | $$  \\frac{23}{24}  $$ | $$ 8 + 6 + 6 + 3 $$ |\n",
       "| $$ 4 $$ | $$ 27 $$ | $$ 1 $$ | $$ 28 $$ | $$  \\frac{1}{2}  +  \\frac{1}{4}  +  \\frac{1}{7}  +  \\frac{1}{14}  $$ | $$  \\frac{27}{28}  $$ | $$ 14 + 7 + 4 + 2 $$ |\n",
       "| $$ 4 $$ | $$ 29 $$ | $$ 1 $$ | $$ 30 $$ | $$  \\frac{1}{2}  +  \\frac{1}{3}  +  \\frac{1}{10}  +  \\frac{1}{30}  $$ | $$  \\frac{29}{30}  $$ | $$ 15 + 10 + 3 + 1 $$ |\n",
       "| $$ 4 $$ | $$ 29 $$ | $$ 1 $$ | $$ 30 $$ | $$  \\frac{1}{2}  +  \\frac{1}{3}  +  \\frac{1}{15}  +  \\frac{1}{15}  $$ | $$  \\frac{29}{30}  $$ | $$ 15 + 10 + 2 + 2 $$ |\n",
       "| $$ 4 $$ | $$ 29 $$ | $$ 1 $$ | $$ 30 $$ | $$  \\frac{1}{2}  +  \\frac{1}{5}  +  \\frac{1}{5}  +  \\frac{1}{15}  $$ | $$  \\frac{29}{30}  $$ | $$ 15 + 6 + 6 + 2 $$ |\n",
       "| $$ 4 $$ | $$ 29 $$ | $$ 1 $$ | $$ 30 $$ | $$  \\frac{1}{2}  +  \\frac{1}{5}  +  \\frac{1}{6}  +  \\frac{1}{10}  $$ | $$  \\frac{29}{30}  $$ | $$ 15 + 6 + 5 + 3 $$ |\n",
       "| $$ 4 $$ | $$ 29 $$ | $$ 1 $$ | $$ 30 $$ | $$  \\frac{1}{3}  +  \\frac{1}{3}  +  \\frac{1}{5}  +  \\frac{1}{10}  $$ | $$  \\frac{29}{30}  $$ | $$ 10 + 10 + 6 + 3 $$ |\n",
       "| $$ 4 $$ | $$ 35 $$ | $$ 1 $$ | $$ 36 $$ | $$  \\frac{1}{2}  +  \\frac{1}{3}  +  \\frac{1}{9}  +  \\frac{1}{36}  $$ | $$  \\frac{35}{36}  $$ | $$ 18 + 12 + 4 + 1 $$ |\n",
       "| $$ 4 $$ | $$ 35 $$ | $$ 1 $$ | $$ 36 $$ | $$  \\frac{1}{2}  +  \\frac{1}{3}  +  \\frac{1}{12}  +  \\frac{1}{18}  $$ | $$  \\frac{35}{36}  $$ | $$ 18 + 12 + 3 + 2 $$ |\n",
       "| $$ 4 $$ | $$ 35 $$ | $$ 1 $$ | $$ 36 $$ | $$  \\frac{1}{2}  +  \\frac{1}{4}  +  \\frac{1}{6}  +  \\frac{1}{18}  $$ | $$  \\frac{35}{36}  $$ | $$ 18 + 9 + 6 + 2 $$ |\n",
       "| $$ 4 $$ | $$ 35 $$ | $$ 1 $$ | $$ 36 $$ | $$  \\frac{1}{2}  +  \\frac{1}{4}  +  \\frac{1}{9}  +  \\frac{1}{9}  $$ | $$  \\frac{35}{36}  $$ | $$ 18 + 9 + 4 + 4 $$ |\n",
       "| $$ 4 $$ | $$ 35 $$ | $$ 1 $$ | $$ 36 $$ | $$  \\frac{1}{3}  +  \\frac{1}{3}  +  \\frac{1}{4}  +  \\frac{1}{18}  $$ | $$  \\frac{35}{36}  $$ | $$ 12 + 12 + 9 + 2 $$ |\n",
       "| $$ 4 $$ | $$ 39 $$ | $$ 1 $$ | $$ 40 $$ | $$  \\frac{1}{2}  +  \\frac{1}{4}  +  \\frac{1}{5}  +  \\frac{1}{40}  $$ | $$  \\frac{39}{40}  $$ | $$ 20 + 10 + 8 + 1 $$ |\n",
       "| $$ 4 $$ | $$ 39 $$ | $$ 1 $$ | $$ 40 $$ | $$  \\frac{1}{2}  +  \\frac{1}{4}  +  \\frac{1}{8}  +  \\frac{1}{10}  $$ | $$  \\frac{39}{40}  $$ | $$ 20 + 10 + 5 + 4 $$ |\n",
       "| $$ 4 $$ | $$ 41 $$ | $$ 1 $$ | $$ 42 $$ | $$  \\frac{1}{2}  +  \\frac{1}{3}  +  \\frac{1}{14}  +  \\frac{1}{14}  $$ | $$  \\frac{41}{42}  $$ | $$ 21 + 14 + 3 + 3 $$ |\n",
       "| $$ 4 $$ | $$ 41 $$ | $$ 1 $$ | $$ 42 $$ | $$  \\frac{1}{2}  +  \\frac{1}{6}  +  \\frac{1}{6}  +  \\frac{1}{7}  $$ | $$  \\frac{41}{42}  $$ | $$ 21 + 7 + 7 + 6 $$ |\n",
       "| $$ 4 $$ | $$ 41 $$ | $$ 1 $$ | $$ 42 $$ | $$  \\frac{1}{3}  +  \\frac{1}{3}  +  \\frac{1}{6}  +  \\frac{1}{7}  $$ | $$  \\frac{41}{42}  $$ | $$ 14 + 14 + 7 + 6 $$ |\n",
       "| $$ 4 $$ | $$ 44 $$ | $$ 1 $$ | $$ 45 $$ | $$  \\frac{1}{3}  +  \\frac{1}{3}  +  \\frac{1}{5}  +  \\frac{1}{9}  $$ | $$  \\frac{44}{45}  $$ | $$ 15 + 15 + 9 + 5 $$ |\n",
       "| $$ 4 $$ | $$ 47 $$ | $$ 1 $$ | $$ 48 $$ | $$  \\frac{1}{2}  +  \\frac{1}{3}  +  \\frac{1}{8}  +  \\frac{1}{48}  $$ | $$  \\frac{47}{48}  $$ | $$ 24 + 16 + 6 + 1 $$ |\n",
       "| $$ 4 $$ | $$ 47 $$ | $$ 1 $$ | $$ 48 $$ | $$  \\frac{1}{2}  +  \\frac{1}{3}  +  \\frac{1}{12}  +  \\frac{1}{16}  $$ | $$  \\frac{47}{48}  $$ | $$ 24 + 16 + 4 + 3 $$ |\n",
       "| $$ 4 $$ | $$ 47 $$ | $$ 1 $$ | $$ 48 $$ | $$  \\frac{1}{2}  +  \\frac{1}{4}  +  \\frac{1}{6}  +  \\frac{1}{16}  $$ | $$  \\frac{47}{48}  $$ | $$ 24 + 12 + 8 + 3 $$ |\n",
       "| $$ 4 $$ | $$ 47 $$ | $$ 1 $$ | $$ 48 $$ | $$  \\frac{1}{3}  +  \\frac{1}{3}  +  \\frac{1}{4}  +  \\frac{1}{16}  $$ | $$  \\frac{47}{48}  $$ | $$ 16 + 16 + 12 + 3 $$ |\n",
       "| $$ 4 $$ | $$ 53 $$ | $$ 1 $$ | $$ 54 $$ | $$  \\frac{1}{2}  +  \\frac{1}{3}  +  \\frac{1}{9}  +  \\frac{1}{27}  $$ | $$  \\frac{53}{54}  $$ | $$ 27 + 18 + 6 + 2 $$ |\n",
       "| $$ 4 $$ | $$ 59 $$ | $$ 1 $$ | $$ 60 $$ | $$  \\frac{1}{2}  +  \\frac{1}{3}  +  \\frac{1}{10}  +  \\frac{1}{20}  $$ | $$  \\frac{59}{60}  $$ | $$ 30 + 20 + 6 + 3 $$ |\n",
       "| $$ 4 $$ | $$ 59 $$ | $$ 1 $$ | $$ 60 $$ | $$  \\frac{1}{2}  +  \\frac{1}{3}  +  \\frac{1}{12}  +  \\frac{1}{15}  $$ | $$  \\frac{59}{60}  $$ | $$ 30 + 20 + 5 + 4 $$ |\n",
       "| $$ 4 $$ | $$ 59 $$ | $$ 1 $$ | $$ 60 $$ | $$  \\frac{1}{2}  +  \\frac{1}{4}  +  \\frac{1}{5}  +  \\frac{1}{30}  $$ | $$  \\frac{59}{60}  $$ | $$ 30 + 15 + 12 + 2 $$ |\n",
       "| $$ 4 $$ | $$ 59 $$ | $$ 1 $$ | $$ 60 $$ | $$  \\frac{1}{2}  +  \\frac{1}{4}  +  \\frac{1}{6}  +  \\frac{1}{15}  $$ | $$  \\frac{59}{60}  $$ | $$ 30 + 15 + 10 + 4 $$ |\n",
       "| $$ 4 $$ | $$ 59 $$ | $$ 1 $$ | $$ 60 $$ | $$  \\frac{1}{2}  +  \\frac{1}{5}  +  \\frac{1}{5}  +  \\frac{1}{12}  $$ | $$  \\frac{59}{60}  $$ | $$ 30 + 12 + 12 + 5 $$ |\n",
       "| $$ 4 $$ | $$ 59 $$ | $$ 1 $$ | $$ 60 $$ | $$  \\frac{1}{3}  +  \\frac{1}{3}  +  \\frac{1}{4}  +  \\frac{1}{15}  $$ | $$  \\frac{59}{60}  $$ | $$ 20 + 20 + 15 + 4 $$ |\n",
       "| $$ 4 $$ | $$ 59 $$ | $$ 1 $$ | $$ 60 $$ | $$  \\frac{1}{3}  +  \\frac{1}{4}  +  \\frac{1}{5}  +  \\frac{1}{5}  $$ | $$  \\frac{59}{60}  $$ | $$ 20 + 15 + 12 + 12 $$ |\n",
       "| $$ 4 $$ | $$ 69 $$ | $$ 1 $$ | $$ 70 $$ | $$  \\frac{1}{2}  +  \\frac{1}{5}  +  \\frac{1}{7}  +  \\frac{1}{7}  $$ | $$  \\frac{69}{70}  $$ | $$ 35 + 14 + 10 + 10 $$ |\n",
       "| $$ 4 $$ | $$ 71 $$ | $$ 1 $$ | $$ 72 $$ | $$  \\frac{1}{2}  +  \\frac{1}{3}  +  \\frac{1}{8}  +  \\frac{1}{36}  $$ | $$  \\frac{71}{72}  $$ | $$ 36 + 24 + 9 + 2 $$ |\n",
       "| $$ 4 $$ | $$ 71 $$ | $$ 1 $$ | $$ 72 $$ | $$  \\frac{1}{2}  +  \\frac{1}{3}  +  \\frac{1}{9}  +  \\frac{1}{24}  $$ | $$  \\frac{71}{72}  $$ | $$ 36 + 24 + 8 + 3 $$ |\n",
       "| $$ 4 $$ | $$ 71 $$ | $$ 1 $$ | $$ 72 $$ | $$  \\frac{1}{2}  +  \\frac{1}{4}  +  \\frac{1}{8}  +  \\frac{1}{9}  $$ | $$  \\frac{71}{72}  $$ | $$ 36 + 18 + 9 + 8 $$ |\n",
       "| $$ 4 $$ | $$ 77 $$ | $$ 1 $$ | $$ 78 $$ | $$  \\frac{1}{2}  +  \\frac{1}{3}  +  \\frac{1}{13}  +  \\frac{1}{13}  $$ | $$  \\frac{77}{78}  $$ | $$ 39 + 26 + 6 + 6 $$ |\n",
       "| $$ 4 $$ | $$ 83 $$ | $$ 1 $$ | $$ 84 $$ | $$  \\frac{1}{2}  +  \\frac{1}{3}  +  \\frac{1}{7}  +  \\frac{1}{84}  $$ | $$  \\frac{83}{84}  $$ | $$ 42 + 28 + 12 + 1 $$ |\n",
       "| $$ 4 $$ | $$ 83 $$ | $$ 1 $$ | $$ 84 $$ | $$  \\frac{1}{2}  +  \\frac{1}{3}  +  \\frac{1}{12}  +  \\frac{1}{14}  $$ | $$  \\frac{83}{84}  $$ | $$ 42 + 28 + 7 + 6 $$ |\n",
       "| $$ 4 $$ | $$ 83 $$ | $$ 1 $$ | $$ 84 $$ | $$  \\frac{1}{2}  +  \\frac{1}{4}  +  \\frac{1}{6}  +  \\frac{1}{14}  $$ | $$  \\frac{83}{84}  $$ | $$ 42 + 21 + 14 + 6 $$ |\n",
       "| $$ 4 $$ | $$ 83 $$ | $$ 1 $$ | $$ 84 $$ | $$  \\frac{1}{3}  +  \\frac{1}{3}  +  \\frac{1}{4}  +  \\frac{1}{14}  $$ | $$  \\frac{83}{84}  $$ | $$ 28 + 28 + 21 + 6 $$ |\n",
       "| $$ 4 $$ | $$ 89 $$ | $$ 1 $$ | $$ 90 $$ | $$  \\frac{1}{2}  +  \\frac{1}{3}  +  \\frac{1}{10}  +  \\frac{1}{18}  $$ | $$  \\frac{89}{90}  $$ | $$ 45 + 30 + 9 + 5 $$ |\n",
       "| $$ 4 $$ | $$ 95 $$ | $$ 1 $$ | $$ 96 $$ | $$  \\frac{1}{2}  +  \\frac{1}{3}  +  \\frac{1}{8}  +  \\frac{1}{32}  $$ | $$  \\frac{95}{96}  $$ | $$ 48 + 32 + 12 + 3 $$ |\n",
       "| $$ 4 $$ | $$ 99 $$ | $$ 1 $$ | $$ 100 $$ | $$  \\frac{1}{2}  +  \\frac{1}{4}  +  \\frac{1}{5}  +  \\frac{1}{25}  $$ | $$  \\frac{99}{100}  $$ | $$ 50 + 25 + 20 + 4 $$ |\n",
       "| $$ 4 $$ | $$ 109 $$ | $$ 1 $$ | $$ 110 $$ | $$  \\frac{1}{2}  +  \\frac{1}{5}  +  \\frac{1}{5}  +  \\frac{1}{11}  $$ | $$  \\frac{109}{110}  $$ | $$ 55 + 22 + 22 + 10 $$ |\n",
       "| $$ 4 $$ | $$ 119 $$ | $$ 1 $$ | $$ 120 $$ | $$  \\frac{1}{2}  +  \\frac{1}{3}  +  \\frac{1}{8}  +  \\frac{1}{30}  $$ | $$  \\frac{119}{120}  $$ | $$ 60 + 40 + 15 + 4 $$ |\n",
       "| $$ 4 $$ | $$ 119 $$ | $$ 1 $$ | $$ 120 $$ | $$  \\frac{1}{2}  +  \\frac{1}{4}  +  \\frac{1}{5}  +  \\frac{1}{24}  $$ | $$  \\frac{119}{120}  $$ | $$ 60 + 30 + 24 + 5 $$ |\n",
       "| $$ 4 $$ | $$ 119 $$ | $$ 1 $$ | $$ 120 $$ | $$  \\frac{1}{2}  +  \\frac{1}{5}  +  \\frac{1}{6}  +  \\frac{1}{8}  $$ | $$  \\frac{119}{120}  $$ | $$ 60 + 24 + 20 + 15 $$ |\n",
       "| $$ 4 $$ | $$ 119 $$ | $$ 1 $$ | $$ 120 $$ | $$  \\frac{1}{3}  +  \\frac{1}{3}  +  \\frac{1}{5}  +  \\frac{1}{8}  $$ | $$  \\frac{119}{120}  $$ | $$ 40 + 40 + 24 + 15 $$ |\n",
       "| $$ 4 $$ | $$ 125 $$ | $$ 1 $$ | $$ 126 $$ | $$  \\frac{1}{2}  +  \\frac{1}{3}  +  \\frac{1}{7}  +  \\frac{1}{63}  $$ | $$  \\frac{125}{126}  $$ | $$ 63 + 42 + 18 + 2 $$ |\n",
       "| $$ 4 $$ | $$ 125 $$ | $$ 1 $$ | $$ 126 $$ | $$  \\frac{1}{2}  +  \\frac{1}{3}  +  \\frac{1}{9}  +  \\frac{1}{21}  $$ | $$  \\frac{125}{126}  $$ | $$ 63 + 42 + 14 + 6 $$ |\n",
       "| $$ 4 $$ | $$ 139 $$ | $$ 1 $$ | $$ 140 $$ | $$  \\frac{1}{2}  +  \\frac{1}{4}  +  \\frac{1}{7}  +  \\frac{1}{10}  $$ | $$  \\frac{139}{140}  $$ | $$ 70 + 35 + 20 + 14 $$ |\n",
       "| $$ 4 $$ | $$ 155 $$ | $$ 1 $$ | $$ 156 $$ | $$  \\frac{1}{2}  +  \\frac{1}{3}  +  \\frac{1}{12}  +  \\frac{1}{13}  $$ | $$  \\frac{155}{156}  $$ | $$ 78 + 52 + 13 + 12 $$ |\n",
       "| $$ 4 $$ | $$ 155 $$ | $$ 1 $$ | $$ 156 $$ | $$  \\frac{1}{2}  +  \\frac{1}{4}  +  \\frac{1}{6}  +  \\frac{1}{13}  $$ | $$  \\frac{155}{156}  $$ | $$ 78 + 39 + 26 + 12 $$ |\n",
       "| $$ 4 $$ | $$ 155 $$ | $$ 1 $$ | $$ 156 $$ | $$  \\frac{1}{3}  +  \\frac{1}{3}  +  \\frac{1}{4}  +  \\frac{1}{13}  $$ | $$  \\frac{155}{156}  $$ | $$ 52 + 52 + 39 + 12 $$ |\n",
       "| $$ 4 $$ | $$ 167 $$ | $$ 1 $$ | $$ 168 $$ | $$  \\frac{1}{2}  +  \\frac{1}{3}  +  \\frac{1}{7}  +  \\frac{1}{56}  $$ | $$  \\frac{167}{168}  $$ | $$ 84 + 56 + 24 + 3 $$ |\n",
       "| $$ 4 $$ | $$ 167 $$ | $$ 1 $$ | $$ 168 $$ | $$  \\frac{1}{2}  +  \\frac{1}{3}  +  \\frac{1}{8}  +  \\frac{1}{28}  $$ | $$  \\frac{167}{168}  $$ | $$ 84 + 56 + 21 + 6 $$ |\n",
       "| $$ 4 $$ | $$ 179 $$ | $$ 1 $$ | $$ 180 $$ | $$  \\frac{1}{2}  +  \\frac{1}{3}  +  \\frac{1}{9}  +  \\frac{1}{20}  $$ | $$  \\frac{179}{180}  $$ | $$ 90 + 60 + 20 + 9 $$ |\n",
       "| $$ 4 $$ | $$ 215 $$ | $$ 1 $$ | $$ 216 $$ | $$  \\frac{1}{2}  +  \\frac{1}{3}  +  \\frac{1}{8}  +  \\frac{1}{27}  $$ | $$  \\frac{215}{216}  $$ | $$ 108 + 72 + 27 + 8 $$ |\n",
       "| $$ 4 $$ | $$ 219 $$ | $$ 1 $$ | $$ 220 $$ | $$  \\frac{1}{2}  +  \\frac{1}{4}  +  \\frac{1}{5}  +  \\frac{1}{22}  $$ | $$  \\frac{219}{220}  $$ | $$ 110 + 55 + 44 + 10 $$ |\n",
       "| $$ 4 $$ | $$ 239 $$ | $$ 1 $$ | $$ 240 $$ | $$  \\frac{1}{2}  +  \\frac{1}{3}  +  \\frac{1}{10}  +  \\frac{1}{16}  $$ | $$  \\frac{239}{240}  $$ | $$ 120 + 80 + 24 + 15 $$ |\n",
       "| $$ 4 $$ | $$ 293 $$ | $$ 1 $$ | $$ 294 $$ | $$  \\frac{1}{2}  +  \\frac{1}{3}  +  \\frac{1}{7}  +  \\frac{1}{49}  $$ | $$  \\frac{293}{294}  $$ | $$ 147 + 98 + 42 + 6 $$ |\n",
       "| $$ 4 $$ | $$ 311 $$ | $$ 1 $$ | $$ 312 $$ | $$  \\frac{1}{2}  +  \\frac{1}{3}  +  \\frac{1}{8}  +  \\frac{1}{26}  $$ | $$  \\frac{311}{312}  $$ | $$ 156 + 104 + 39 + 12 $$ |\n",
       "| $$ 4 $$ | $$ 335 $$ | $$ 1 $$ | $$ 336 $$ | $$  \\frac{1}{2}  +  \\frac{1}{3}  +  \\frac{1}{7}  +  \\frac{1}{48}  $$ | $$  \\frac{335}{336}  $$ | $$ 168 + 112 + 48 + 7 $$ |\n",
       "| $$ 4 $$ | $$ 341 $$ | $$ 1 $$ | $$ 342 $$ | $$  \\frac{1}{2}  +  \\frac{1}{3}  +  \\frac{1}{9}  +  \\frac{1}{19}  $$ | $$  \\frac{341}{342}  $$ | $$ 171 + 114 + 38 + 18 $$ |\n",
       "| $$ 4 $$ | $$ 419 $$ | $$ 1 $$ | $$ 420 $$ | $$  \\frac{1}{2}  +  \\frac{1}{4}  +  \\frac{1}{5}  +  \\frac{1}{21}  $$ | $$  \\frac{419}{420}  $$ | $$ 210 + 105 + 84 + 20 $$ |\n",
       "| $$ 4 $$ | $$ 599 $$ | $$ 1 $$ | $$ 600 $$ | $$  \\frac{1}{2}  +  \\frac{1}{3}  +  \\frac{1}{8}  +  \\frac{1}{25}  $$ | $$  \\frac{599}{600}  $$ | $$ 300 + 200 + 75 + 24 $$ |\n",
       "| $$ 4 $$ | $$ 629 $$ | $$ 1 $$ | $$ 630 $$ | $$  \\frac{1}{2}  +  \\frac{1}{3}  +  \\frac{1}{7}  +  \\frac{1}{45}  $$ | $$  \\frac{629}{630}  $$ | $$ 315 + 210 + 90 + 14 $$ |\n",
       "| $$ 4 $$ | $$ 923 $$ | $$ 1 $$ | $$ 924 $$ | $$  \\frac{1}{2}  +  \\frac{1}{3}  +  \\frac{1}{7}  +  \\frac{1}{44}  $$ | $$  \\frac{923}{924}  $$ | $$ 462 + 308 + 132 + 21 $$ |\n",
       "| $$ 4 $$ | $$ 1805 $$ | $$ 1 $$ | $$ 1806 $$ | $$  \\frac{1}{2}  +  \\frac{1}{3}  +  \\frac{1}{7}  +  \\frac{1}{43}  $$ | $$  \\frac{1805}{1806}  $$ | $$ 903 + 602 + 258 + 42 $$ |\n"
      ],
      "text/plain": [
       "<IPython.core.display.Markdown object>"
      ]
     },
     "metadata": {},
     "output_type": "display_data"
    }
   ],
   "source": [
    "def all_solutions(heirs: int) -> None:\n",
    "        '''\n",
    "        displays all solutions for the amount heirs,\n",
    "        assuming neighor only lends 1 horse\n",
    "        '''\n",
    "        upper = k_upper_bound(heirs)\n",
    "        solutions = []\n",
    "        for k in range(2, upper+1):\n",
    "            solutions.extend(solve(heirs, k - 1, 1))\n",
    "        prettify_solutions(solutions)\n",
    "\n",
    "\n",
    "# display solutions for 2, 3, and 4\n",
    "all_solutions(2)\n",
    "all_solutions(3)\n",
    "all_solutions(4)"
   ]
  },
  {
   "cell_type": "code",
   "execution_count": null,
   "id": "b77e8326-b644-4d42-8542-17743d12d832",
   "metadata": {},
   "outputs": [],
   "source": []
  }
 ],
 "metadata": {
  "kernelspec": {
   "display_name": "Python 3 (ipykernel)",
   "language": "python",
   "name": "python3"
  },
  "language_info": {
   "codemirror_mode": {
    "name": "ipython",
    "version": 3
   },
   "file_extension": ".py",
   "mimetype": "text/x-python",
   "name": "python",
   "nbconvert_exporter": "python",
   "pygments_lexer": "ipython3",
   "version": "3.11.2"
  }
 },
 "nbformat": 4,
 "nbformat_minor": 5
}
